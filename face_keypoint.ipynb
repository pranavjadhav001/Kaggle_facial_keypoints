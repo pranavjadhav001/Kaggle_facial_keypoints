{
  "nbformat": 4,
  "nbformat_minor": 0,
  "metadata": {
    "colab": {
      "name": "face_keypoint.ipynb",
      "version": "0.3.2",
      "provenance": [],
      "collapsed_sections": []
    },
    "language_info": {
      "codemirror_mode": {
        "name": "ipython",
        "version": 3
      },
      "file_extension": ".py",
      "mimetype": "text/x-python",
      "name": "python",
      "nbconvert_exporter": "python",
      "pygments_lexer": "ipython3",
      "version": "3.6.1"
    },
    "kernelspec": {
      "name": "python3",
      "display_name": "Python 3"
    },
    "accelerator": "GPU"
  },
  "cells": [
    {
      "cell_type": "code",
      "metadata": {
        "id": "ZlOnTMf832Zu",
        "colab_type": "code",
        "colab": {}
      },
      "source": [
        "import pandas as pd\n",
        "import matplotlib.pyplot as plt\n",
        "import numpy as np\n",
        "from google.colab import drive\n",
        "import os\n",
        "from google.colab.patches import cv2_imshow"
      ],
      "execution_count": 0,
      "outputs": []
    },
    {
      "cell_type": "markdown",
      "metadata": {
        "id": "faqYcAnOMK62",
        "colab_type": "text"
      },
      "source": [
        "Kaggle task of predicting location of facial keypoints like eyebrows, lips etc given an image of a face.Training has been done on training.csv and later tested on test.csv , made a simple CNN architecture model since images are in grayscale. Using sigmoid in the last layer and calculating mean squared error b/w true labels and predicted labels."
      ]
    },
    {
      "cell_type": "markdown",
      "metadata": {
        "id": "lggD-Dz1KzyS",
        "colab_type": "text"
      },
      "source": [
        "importing modules\n"
      ]
    },
    {
      "cell_type": "code",
      "metadata": {
        "id": "LW9vLIE2LLty",
        "colab_type": "code",
        "outputId": "17b5c113-8ddd-4cfa-8eec-e6a3947c35e5",
        "colab": {
          "base_uri": "https://localhost:8080/",
          "height": 34
        }
      },
      "source": [
        "drive.mount('/content/drive/')"
      ],
      "execution_count": 0,
      "outputs": [
        {
          "output_type": "stream",
          "text": [
            "Drive already mounted at /content/drive/; to attempt to forcibly remount, call drive.mount(\"/content/drive/\", force_remount=True).\n"
          ],
          "name": "stdout"
        }
      ]
    },
    {
      "cell_type": "code",
      "metadata": {
        "id": "EVdDRnIbLNMj",
        "colab_type": "code",
        "colab": {}
      },
      "source": [
        "os.chdir('./drive/My Drive/kaggle')"
      ],
      "execution_count": 0,
      "outputs": []
    },
    {
      "cell_type": "markdown",
      "metadata": {
        "id": "6U-axXArK4V5",
        "colab_type": "text"
      },
      "source": [
        "reading all csv to pandas dataframe"
      ]
    },
    {
      "cell_type": "code",
      "metadata": {
        "id": "0WlNu8qj32Zy",
        "colab_type": "code",
        "colab": {}
      },
      "source": [
        "train_data = pd.read_csv('./training.csv')  \n",
        "test_data = pd.read_csv('./test.csv')\n",
        "lookid_data = pd.read_csv('./IdLookupTable.csv')"
      ],
      "execution_count": 0,
      "outputs": []
    },
    {
      "cell_type": "code",
      "metadata": {
        "scrolled": true,
        "id": "Ap_T-wFX32Z2",
        "colab_type": "code",
        "colab": {}
      },
      "source": [
        "train_data.fillna(method = 'ffill',inplace = True)"
      ],
      "execution_count": 0,
      "outputs": []
    },
    {
      "cell_type": "markdown",
      "metadata": {
        "id": "ITQuEtGEK9JJ",
        "colab_type": "text"
      },
      "source": [
        "replacing any Nan or null value with last value in the column/"
      ]
    },
    {
      "cell_type": "code",
      "metadata": {
        "id": "Q2YZ-sK532Z5",
        "colab_type": "code",
        "outputId": "35fb9e4f-b6d3-475c-8489-28fade13fd38",
        "colab": {
          "base_uri": "https://localhost:8080/",
          "height": 51
        }
      },
      "source": [
        "train_data.isnull().any().value_counts()"
      ],
      "execution_count": 0,
      "outputs": [
        {
          "output_type": "execute_result",
          "data": {
            "text/plain": [
              "False    31\n",
              "dtype: int64"
            ]
          },
          "metadata": {
            "tags": []
          },
          "execution_count": 6
        }
      ]
    },
    {
      "cell_type": "code",
      "metadata": {
        "scrolled": true,
        "id": "T4t4BXkW32Z-",
        "colab_type": "code",
        "colab": {}
      },
      "source": [
        "train_data.head()"
      ],
      "execution_count": 0,
      "outputs": []
    },
    {
      "cell_type": "code",
      "metadata": {
        "id": "J0BZb5fd32aC",
        "colab_type": "code",
        "outputId": "964125a7-dfbc-4a35-bb6f-e4794d37c0be",
        "colab": {
          "base_uri": "https://localhost:8080/",
          "height": 34
        }
      },
      "source": [
        "train_data.shape"
      ],
      "execution_count": 0,
      "outputs": [
        {
          "output_type": "execute_result",
          "data": {
            "text/plain": [
              "(7049, 31)"
            ]
          },
          "metadata": {
            "tags": []
          },
          "execution_count": 8
        }
      ]
    },
    {
      "cell_type": "code",
      "metadata": {
        "id": "vMbgMpvr32aI",
        "colab_type": "code",
        "colab": {}
      },
      "source": [
        "imag = []\n",
        "for i in range(0,train_data.shape[0]):\n",
        "    img = train_data['Image'][i].split(' ')\n",
        "    img = ['0' if x == '' else x for x in img]\n",
        "    imag.append(img)"
      ],
      "execution_count": 0,
      "outputs": []
    },
    {
      "cell_type": "code",
      "metadata": {
        "id": "HxTCEFR432aL",
        "colab_type": "code",
        "colab": {}
      },
      "source": [
        "image_list = np.array(imag,dtype = 'float')\n",
        "X_train = image_list.reshape(-1,96,96)\n",
        "x_train = X_train.reshape(-1,96,96,1)\n",
        "x_train = x_train/255"
      ],
      "execution_count": 0,
      "outputs": []
    },
    {
      "cell_type": "markdown",
      "metadata": {
        "id": "o6Au5JhaLKGi",
        "colab_type": "text"
      },
      "source": [
        "normalizing training image data"
      ]
    },
    {
      "cell_type": "code",
      "metadata": {
        "id": "Zmf1RoDb32aN",
        "colab_type": "code",
        "outputId": "b8c78673-d489-4e0c-c4d7-2058decc7934",
        "colab": {
          "base_uri": "https://localhost:8080/",
          "height": 34
        }
      },
      "source": [
        "X_train.shape"
      ],
      "execution_count": 0,
      "outputs": [
        {
          "output_type": "execute_result",
          "data": {
            "text/plain": [
              "(7049, 96, 96)"
            ]
          },
          "metadata": {
            "tags": []
          },
          "execution_count": 11
        }
      ]
    },
    {
      "cell_type": "code",
      "metadata": {
        "scrolled": true,
        "id": "FPfSRasE32aS",
        "colab_type": "code",
        "outputId": "8fbfa5d5-1c67-47aa-e5ac-d7b109215fc6",
        "colab": {
          "base_uri": "https://localhost:8080/",
          "height": 555
        }
      },
      "source": [
        "for i in X_train[5000:5002]:\n",
        "    print(i.shape)\n",
        "    plt.imshow(i)\n",
        "    plt.show()"
      ],
      "execution_count": 0,
      "outputs": [
        {
          "output_type": "stream",
          "text": [
            "(96, 96)\n"
          ],
          "name": "stdout"
        },
        {
          "output_type": "display_data",
          "data": {
            "image/png": "[encoded data removed]",
            "text/plain": [
              "<Figure size 432x288 with 1 Axes>"
            ]
          },
          "metadata": {
            "tags": []
          }
        },
        {
          "output_type": "stream",
          "text": [
            "(96, 96)\n"
          ],
          "name": "stdout"
        },
        {
          "output_type": "display_data",
          "data": {
            "image/png": "[encoded data removed]",
            "text/plain": [
              "<Figure size 432x288 with 1 Axes>"
            ]
          },
          "metadata": {
            "tags": []
          }
        }
      ]
    },
    {
      "cell_type": "code",
      "metadata": {
        "id": "fn5A4mmN32aX",
        "colab_type": "code",
        "colab": {}
      },
      "source": [
        "y_train = np.array(train_data.iloc[:,:-1])"
      ],
      "execution_count": 0,
      "outputs": []
    },
    {
      "cell_type": "markdown",
      "metadata": {
        "id": "yLxvV1S5LOZx",
        "colab_type": "text"
      },
      "source": [
        "getting training labels i.e facial keypoints coordinates"
      ]
    },
    {
      "cell_type": "code",
      "metadata": {
        "id": "mHq__27_32aa",
        "colab_type": "code",
        "outputId": "e8d47e46-1723-463b-a996-d1ce346f408a",
        "colab": {
          "base_uri": "https://localhost:8080/",
          "height": 34
        }
      },
      "source": [
        "y_train.shape"
      ],
      "execution_count": 0,
      "outputs": [
        {
          "output_type": "execute_result",
          "data": {
            "text/plain": [
              "(7049, 30)"
            ]
          },
          "metadata": {
            "tags": []
          },
          "execution_count": 14
        }
      ]
    },
    {
      "cell_type": "code",
      "metadata": {
        "id": "0-ccncR0dSi_",
        "colab_type": "code",
        "colab": {}
      },
      "source": [
        "def visualize(img,coor):\n",
        "  x_coordinates = [coor[i] for i in range(0,len(coor),2)]\n",
        "  y_coordinates = [coor[i] for i in range(1,len(coor),2)]\n",
        "  implot = plt.imshow(img,cmap='gray')\n",
        "  plt.scatter(x=x_coordinates, y=y_coordinates, c='r', s=40)"
      ],
      "execution_count": 0,
      "outputs": []
    },
    {
      "cell_type": "markdown",
      "metadata": {
        "id": "W4PL77AyLXS6",
        "colab_type": "text"
      },
      "source": [
        "plotting labels on the corresponding image for better visualization"
      ]
    },
    {
      "cell_type": "code",
      "metadata": {
        "id": "krGb0kfAdoIH",
        "colab_type": "code",
        "outputId": "5903fcbf-cd3e-4143-973d-3b520c400763",
        "colab": {
          "base_uri": "https://localhost:8080/",
          "height": 269
        }
      },
      "source": [
        "visualize(X_train[0],y_train[0])"
      ],
      "execution_count": 0,
      "outputs": [
        {
          "output_type": "display_data",
          "data": {
            "image/png": "[encoded data removed]",
            "text/plain": [
              "<Figure size 432x288 with 1 Axes>"
            ]
          },
          "metadata": {
            "tags": []
          }
        }
      ]
    },
    {
      "cell_type": "code",
      "metadata": {
        "id": "38YDuzig32ao",
        "colab_type": "code",
        "colab": {}
      },
      "source": [
        "normalized_ytrain = y_train/96"
      ],
      "execution_count": 0,
      "outputs": []
    },
    {
      "cell_type": "markdown",
      "metadata": {
        "id": "arjL_WheLgvB",
        "colab_type": "text"
      },
      "source": [
        "normalizing labels between 0-1 so the model can regress between 0-1"
      ]
    },
    {
      "cell_type": "code",
      "metadata": {
        "id": "s832zJzy32ax",
        "colab_type": "code",
        "outputId": "1cb1d94f-2754-48e5-e271-206efc6b9f73",
        "colab": {
          "base_uri": "https://localhost:8080/",
          "height": 34
        }
      },
      "source": [
        "from keras.models import Sequential\n",
        "from keras.layers.core import Flatten, Dense, Dropout\n",
        "from keras.layers.convolutional import Conv2D, MaxPooling2D, ZeroPadding2D\n",
        "from keras.optimizers import SGD\n",
        "import cv2, numpy as np\n",
        "from keras import backend as K\n",
        "from keras.initializers import he_normal"
      ],
      "execution_count": 1,
      "outputs": [
        {
          "output_type": "stream",
          "text": [
            "Using TensorFlow backend.\n"
          ],
          "name": "stderr"
        }
      ]
    },
    {
      "cell_type": "code",
      "metadata": {
        "id": "NxgVRIbCNffe",
        "colab_type": "code",
        "colab": {}
      },
      "source": [
        "K.set_learning_phase(1)"
      ],
      "execution_count": 0,
      "outputs": []
    },
    {
      "cell_type": "code",
      "metadata": {
        "id": "g2bkeSdf32a0",
        "colab_type": "code",
        "outputId": "77a6fcb7-9332-4fff-86de-002d3c63ee9e",
        "colab": {
          "base_uri": "https://localhost:8080/",
          "height": 119
        }
      },
      "source": [
        "model = Sequential()\n",
        "model.add(Conv2D(48,3,input_shape=(96,96,1),activation='relu'))\n",
        "model.add(Conv2D(48,3,activation='relu'))\n",
        "model.add(MaxPooling2D((2,2), strides=(2,2)))\n",
        "model.add(Conv2D(72,2,activation='relu'))\n",
        "model.add(Conv2D(72,2,activation='relu'))\n",
        "model.add(MaxPooling2D((2,2), strides=(2,2)))\n",
        "model.add(Conv2D(96,2,activation='relu'))\n",
        "model.add(Conv2D(96,2,activation='relu'))\n",
        "model.add(MaxPooling2D((2,2), strides=(2,2)))\n",
        "model.add(Flatten())\n",
        "model.add(Dense(1024, activation='relu'))\n",
        "model.add(Dropout(0.1))\n",
        "model.add(Dense(30, activation='sigmoid'))"
      ],
      "execution_count": 0,
      "outputs": [
        {
          "output_type": "stream",
          "text": [
            "WARNING:tensorflow:From /usr/local/lib/python3.6/dist-packages/tensorflow/python/framework/op_def_library.py:263: colocate_with (from tensorflow.python.framework.ops) is deprecated and will be removed in a future version.\n",
            "Instructions for updating:\n",
            "Colocations handled automatically by placer.\n",
            "WARNING:tensorflow:From /usr/local/lib/python3.6/dist-packages/keras/backend/tensorflow_backend.py:3445: calling dropout (from tensorflow.python.ops.nn_ops) with keep_prob is deprecated and will be removed in a future version.\n",
            "Instructions for updating:\n",
            "Please use `rate` instead of `keep_prob`. Rate should be set to `rate = 1 - keep_prob`.\n"
          ],
          "name": "stdout"
        }
      ]
    },
    {
      "cell_type": "code",
      "metadata": {
        "id": "zfmtCg5q32a3",
        "colab_type": "code",
        "colab": {}
      },
      "source": [
        "x_train = x_train.astype('float32')\n",
        "normalized_ytrain = normalized_ytrain.astype('float32')"
      ],
      "execution_count": 0,
      "outputs": []
    },
    {
      "cell_type": "code",
      "metadata": {
        "id": "_syZ2aL1XYoQ",
        "colab_type": "code",
        "colab": {}
      },
      "source": [
        "model.compile(optimizer='adam', \n",
        "              loss='mse',\n",
        "              metrics=['mae','accuracy'])"
      ],
      "execution_count": 0,
      "outputs": []
    },
    {
      "cell_type": "code",
      "metadata": {
        "id": "TzN65_jw32a9",
        "colab_type": "code",
        "colab": {}
      },
      "source": [
        "from tensorflow.keras.callbacks import ModelCheckpoint\n",
        "model_checkpoint = ModelCheckpoint(\"best_weights.h5\", 'val_loss', verbose=1,save_best_only=True)"
      ],
      "execution_count": 0,
      "outputs": []
    },
    {
      "cell_type": "code",
      "metadata": {
        "id": "Lb6NyP0_Q2B_",
        "colab_type": "code",
        "outputId": "99386aab-47e5-4698-ab37-588ad42a84a8",
        "colab": {
          "base_uri": "https://localhost:8080/",
          "height": 578
        }
      },
      "source": [
        "model.summary()"
      ],
      "execution_count": 0,
      "outputs": [
        {
          "output_type": "stream",
          "text": [
            "_________________________________________________________________\n",
            "Layer (type)                 Output Shape              Param #   \n",
            "=================================================================\n",
            "conv2d_1 (Conv2D)            (None, 94, 94, 48)        480       \n",
            "_________________________________________________________________\n",
            "conv2d_2 (Conv2D)            (None, 92, 92, 48)        20784     \n",
            "_________________________________________________________________\n",
            "max_pooling2d_1 (MaxPooling2 (None, 46, 46, 48)        0         \n",
            "_________________________________________________________________\n",
            "conv2d_3 (Conv2D)            (None, 45, 45, 72)        13896     \n",
            "_________________________________________________________________\n",
            "conv2d_4 (Conv2D)            (None, 44, 44, 72)        20808     \n",
            "_________________________________________________________________\n",
            "max_pooling2d_2 (MaxPooling2 (None, 22, 22, 72)        0         \n",
            "_________________________________________________________________\n",
            "conv2d_5 (Conv2D)            (None, 21, 21, 96)        27744     \n",
            "_________________________________________________________________\n",
            "conv2d_6 (Conv2D)            (None, 20, 20, 96)        36960     \n",
            "_________________________________________________________________\n",
            "max_pooling2d_3 (MaxPooling2 (None, 10, 10, 96)        0         \n",
            "_________________________________________________________________\n",
            "flatten_1 (Flatten)          (None, 9600)              0         \n",
            "_________________________________________________________________\n",
            "dense_1 (Dense)              (None, 1024)              9831424   \n",
            "_________________________________________________________________\n",
            "dropout_1 (Dropout)          (None, 1024)              0         \n",
            "_________________________________________________________________\n",
            "dense_2 (Dense)              (None, 30)                30750     \n",
            "=================================================================\n",
            "Total params: 9,982,846\n",
            "Trainable params: 9,982,846\n",
            "Non-trainable params: 0\n",
            "_________________________________________________________________\n"
          ],
          "name": "stdout"
        }
      ]
    },
    {
      "cell_type": "code",
      "metadata": {
        "scrolled": true,
        "id": "v6F0D1Mi32bD",
        "colab_type": "code",
        "outputId": "85fac186-7fb9-4199-873b-d74110d57e13",
        "colab": {
          "base_uri": "https://localhost:8080/",
          "height": 6902
        }
      },
      "source": [
        "model.fit(x_train,normalized_ytrain,batch_size=32,epochs=100, verbose=1, callbacks=[model_checkpoint],validation_split=0.2)"
      ],
      "execution_count": 0,
      "outputs": [
        {
          "output_type": "stream",
          "text": [
            "WARNING:tensorflow:From /usr/local/lib/python3.6/dist-packages/tensorflow/python/ops/math_ops.py:3066: to_int32 (from tensorflow.python.ops.math_ops) is deprecated and will be removed in a future version.\n",
            "Instructions for updating:\n",
            "Use tf.cast instead.\n",
            "Train on 5639 samples, validate on 1410 samples\n",
            "Epoch 1/100\n",
            "5639/5639 [==============================] - 10s 2ms/step - loss: 0.0020 - mean_absolute_error: 0.0297 - acc: 0.5739 - val_loss: 7.2857e-04 - val_mean_absolute_error: 0.0179 - val_acc: 0.6390\n",
            "\n",
            "Epoch 00001: val_loss improved from inf to 0.00073, saving model to best_weights.h5\n",
            "Epoch 2/100\n",
            "5639/5639 [==============================] - 7s 1ms/step - loss: 0.0011 - mean_absolute_error: 0.0219 - acc: 0.6180 - val_loss: 7.1194e-04 - val_mean_absolute_error: 0.0178 - val_acc: 0.6752\n",
            "\n",
            "Epoch 00002: val_loss improved from 0.00073 to 0.00071, saving model to best_weights.h5\n",
            "Epoch 3/100\n",
            "5639/5639 [==============================] - 7s 1ms/step - loss: 7.9598e-04 - mean_absolute_error: 0.0188 - acc: 0.7161 - val_loss: 8.1031e-04 - val_mean_absolute_error: 0.0203 - val_acc: 0.7277\n",
            "\n",
            "Epoch 00003: val_loss did not improve from 0.00071\n",
            "Epoch 4/100\n",
            "5639/5639 [==============================] - 7s 1ms/step - loss: 6.8436e-04 - mean_absolute_error: 0.0173 - acc: 0.7441 - val_loss: 5.2988e-04 - val_mean_absolute_error: 0.0154 - val_acc: 0.7440\n",
            "\n",
            "Epoch 00004: val_loss improved from 0.00071 to 0.00053, saving model to best_weights.h5\n",
            "Epoch 5/100\n",
            "5639/5639 [==============================] - 7s 1ms/step - loss: 6.2736e-04 - mean_absolute_error: 0.0165 - acc: 0.7709 - val_loss: 5.0583e-04 - val_mean_absolute_error: 0.0156 - val_acc: 0.7532\n",
            "\n",
            "Epoch 00005: val_loss improved from 0.00053 to 0.00051, saving model to best_weights.h5\n",
            "Epoch 6/100\n",
            "5639/5639 [==============================] - 7s 1ms/step - loss: 5.7622e-04 - mean_absolute_error: 0.0157 - acc: 0.7856 - val_loss: 5.0764e-04 - val_mean_absolute_error: 0.0157 - val_acc: 0.7511\n",
            "\n",
            "Epoch 00006: val_loss did not improve from 0.00051\n",
            "Epoch 7/100\n",
            "5639/5639 [==============================] - 7s 1ms/step - loss: 5.4290e-04 - mean_absolute_error: 0.0152 - acc: 0.7925 - val_loss: 4.2152e-04 - val_mean_absolute_error: 0.0134 - val_acc: 0.7546\n",
            "\n",
            "Epoch 00007: val_loss improved from 0.00051 to 0.00042, saving model to best_weights.h5\n",
            "Epoch 8/100\n",
            "5639/5639 [==============================] - 7s 1ms/step - loss: 5.0938e-04 - mean_absolute_error: 0.0149 - acc: 0.8042 - val_loss: 5.5185e-04 - val_mean_absolute_error: 0.0165 - val_acc: 0.7582\n",
            "\n",
            "Epoch 00008: val_loss did not improve from 0.00042\n",
            "Epoch 9/100\n",
            "5639/5639 [==============================] - 7s 1ms/step - loss: 4.7112e-04 - mean_absolute_error: 0.0142 - acc: 0.8122 - val_loss: 3.7475e-04 - val_mean_absolute_error: 0.0125 - val_acc: 0.7638\n",
            "\n",
            "Epoch 00009: val_loss improved from 0.00042 to 0.00037, saving model to best_weights.h5\n",
            "Epoch 10/100\n",
            "5639/5639 [==============================] - 7s 1ms/step - loss: 4.3927e-04 - mean_absolute_error: 0.0139 - acc: 0.8143 - val_loss: 4.1731e-04 - val_mean_absolute_error: 0.0135 - val_acc: 0.7730\n",
            "\n",
            "Epoch 00010: val_loss did not improve from 0.00037\n",
            "Epoch 11/100\n",
            "5639/5639 [==============================] - 7s 1ms/step - loss: 4.0636e-04 - mean_absolute_error: 0.0133 - acc: 0.8177 - val_loss: 3.8081e-04 - val_mean_absolute_error: 0.0124 - val_acc: 0.7582\n",
            "\n",
            "Epoch 00011: val_loss did not improve from 0.00037\n",
            "Epoch 12/100\n",
            "5639/5639 [==============================] - 7s 1ms/step - loss: 3.7920e-04 - mean_absolute_error: 0.0129 - acc: 0.8294 - val_loss: 3.6740e-04 - val_mean_absolute_error: 0.0121 - val_acc: 0.7624\n",
            "\n",
            "Epoch 00012: val_loss improved from 0.00037 to 0.00037, saving model to best_weights.h5\n",
            "Epoch 13/100\n",
            "5639/5639 [==============================] - 7s 1ms/step - loss: 3.4337e-04 - mean_absolute_error: 0.0124 - acc: 0.8360 - val_loss: 4.2204e-04 - val_mean_absolute_error: 0.0132 - val_acc: 0.7688\n",
            "\n",
            "Epoch 00013: val_loss did not improve from 0.00037\n",
            "Epoch 14/100\n",
            "5639/5639 [==============================] - 7s 1ms/step - loss: 3.1217e-04 - mean_absolute_error: 0.0118 - acc: 0.8439 - val_loss: 3.5065e-04 - val_mean_absolute_error: 0.0117 - val_acc: 0.7738\n",
            "\n",
            "Epoch 00014: val_loss improved from 0.00037 to 0.00035, saving model to best_weights.h5\n",
            "Epoch 15/100\n",
            "5639/5639 [==============================] - 7s 1ms/step - loss: 2.9439e-04 - mean_absolute_error: 0.0116 - acc: 0.8462 - val_loss: 3.6733e-04 - val_mean_absolute_error: 0.0121 - val_acc: 0.7589\n",
            "\n",
            "Epoch 00015: val_loss did not improve from 0.00035\n",
            "Epoch 16/100\n",
            "5639/5639 [==============================] - 7s 1ms/step - loss: 2.7777e-04 - mean_absolute_error: 0.0113 - acc: 0.8530 - val_loss: 3.2026e-04 - val_mean_absolute_error: 0.0110 - val_acc: 0.7553\n",
            "\n",
            "Epoch 00016: val_loss improved from 0.00035 to 0.00032, saving model to best_weights.h5\n",
            "Epoch 17/100\n",
            "5639/5639 [==============================] - 7s 1ms/step - loss: 2.6979e-04 - mean_absolute_error: 0.0113 - acc: 0.8541 - val_loss: 3.8382e-04 - val_mean_absolute_error: 0.0124 - val_acc: 0.7837\n",
            "\n",
            "Epoch 00017: val_loss did not improve from 0.00032\n",
            "Epoch 18/100\n",
            "5639/5639 [==============================] - 7s 1ms/step - loss: 2.4562e-04 - mean_absolute_error: 0.0107 - acc: 0.8611 - val_loss: 4.1718e-04 - val_mean_absolute_error: 0.0131 - val_acc: 0.7773\n",
            "\n",
            "Epoch 00018: val_loss did not improve from 0.00032\n",
            "Epoch 19/100\n",
            "5639/5639 [==============================] - 7s 1ms/step - loss: 2.2587e-04 - mean_absolute_error: 0.0104 - acc: 0.8611 - val_loss: 3.4689e-04 - val_mean_absolute_error: 0.0117 - val_acc: 0.7823\n",
            "\n",
            "Epoch 00019: val_loss did not improve from 0.00032\n",
            "Epoch 20/100\n",
            "5639/5639 [==============================] - 7s 1ms/step - loss: 2.0490e-04 - mean_absolute_error: 0.0099 - acc: 0.8663 - val_loss: 3.5347e-04 - val_mean_absolute_error: 0.0118 - val_acc: 0.7865\n",
            "\n",
            "Epoch 00020: val_loss did not improve from 0.00032\n",
            "Epoch 21/100\n",
            "5639/5639 [==============================] - 7s 1ms/step - loss: 2.0108e-04 - mean_absolute_error: 0.0099 - acc: 0.8736 - val_loss: 3.9510e-04 - val_mean_absolute_error: 0.0129 - val_acc: 0.7830\n",
            "\n",
            "Epoch 00021: val_loss did not improve from 0.00032\n",
            "Epoch 22/100\n",
            "5639/5639 [==============================] - 7s 1ms/step - loss: 1.8298e-04 - mean_absolute_error: 0.0095 - acc: 0.8807 - val_loss: 3.2914e-04 - val_mean_absolute_error: 0.0111 - val_acc: 0.7723\n",
            "\n",
            "Epoch 00022: val_loss did not improve from 0.00032\n",
            "Epoch 23/100\n",
            "5639/5639 [==============================] - 7s 1ms/step - loss: 1.7040e-04 - mean_absolute_error: 0.0091 - acc: 0.8737 - val_loss: 3.2905e-04 - val_mean_absolute_error: 0.0110 - val_acc: 0.7603\n",
            "\n",
            "Epoch 00023: val_loss did not improve from 0.00032\n",
            "Epoch 24/100\n",
            "5639/5639 [==============================] - 7s 1ms/step - loss: 1.6854e-04 - mean_absolute_error: 0.0091 - acc: 0.8798 - val_loss: 3.0970e-04 - val_mean_absolute_error: 0.0109 - val_acc: 0.7816\n",
            "\n",
            "Epoch 00024: val_loss improved from 0.00032 to 0.00031, saving model to best_weights.h5\n",
            "Epoch 25/100\n",
            "5639/5639 [==============================] - 7s 1ms/step - loss: 1.6535e-04 - mean_absolute_error: 0.0090 - acc: 0.8798 - val_loss: 3.1652e-04 - val_mean_absolute_error: 0.0107 - val_acc: 0.7816\n",
            "\n",
            "Epoch 00025: val_loss did not improve from 0.00031\n",
            "Epoch 26/100\n",
            "5639/5639 [==============================] - 7s 1ms/step - loss: 1.5527e-04 - mean_absolute_error: 0.0087 - acc: 0.8874 - val_loss: 3.3439e-04 - val_mean_absolute_error: 0.0111 - val_acc: 0.7943\n",
            "\n",
            "Epoch 00026: val_loss did not improve from 0.00031\n",
            "Epoch 27/100\n",
            "5639/5639 [==============================] - 7s 1ms/step - loss: 1.4867e-04 - mean_absolute_error: 0.0085 - acc: 0.8904 - val_loss: 3.4670e-04 - val_mean_absolute_error: 0.0115 - val_acc: 0.7752\n",
            "\n",
            "Epoch 00027: val_loss did not improve from 0.00031\n",
            "Epoch 28/100\n",
            "5639/5639 [==============================] - 7s 1ms/step - loss: 1.5549e-04 - mean_absolute_error: 0.0088 - acc: 0.8867 - val_loss: 3.1794e-04 - val_mean_absolute_error: 0.0107 - val_acc: 0.7830\n",
            "\n",
            "Epoch 00028: val_loss did not improve from 0.00031\n",
            "Epoch 29/100\n",
            "5639/5639 [==============================] - 7s 1ms/step - loss: 1.4076e-04 - mean_absolute_error: 0.0083 - acc: 0.8909 - val_loss: 3.0227e-04 - val_mean_absolute_error: 0.0105 - val_acc: 0.7738\n",
            "\n",
            "Epoch 00029: val_loss improved from 0.00031 to 0.00030, saving model to best_weights.h5\n",
            "Epoch 30/100\n",
            "5639/5639 [==============================] - 7s 1ms/step - loss: 1.3716e-04 - mean_absolute_error: 0.0082 - acc: 0.8968 - val_loss: 3.0026e-04 - val_mean_absolute_error: 0.0104 - val_acc: 0.7645\n",
            "\n",
            "Epoch 00030: val_loss improved from 0.00030 to 0.00030, saving model to best_weights.h5\n",
            "Epoch 31/100\n",
            "5639/5639 [==============================] - 7s 1ms/step - loss: 1.3263e-04 - mean_absolute_error: 0.0081 - acc: 0.8890 - val_loss: 3.1238e-04 - val_mean_absolute_error: 0.0108 - val_acc: 0.7837\n",
            "\n",
            "Epoch 00031: val_loss did not improve from 0.00030\n",
            "Epoch 32/100\n",
            "5639/5639 [==============================] - 7s 1ms/step - loss: 1.2073e-04 - mean_absolute_error: 0.0076 - acc: 0.9000 - val_loss: 3.1821e-04 - val_mean_absolute_error: 0.0106 - val_acc: 0.7823\n",
            "\n",
            "Epoch 00032: val_loss did not improve from 0.00030\n",
            "Epoch 33/100\n",
            "5639/5639 [==============================] - 7s 1ms/step - loss: 1.2416e-04 - mean_absolute_error: 0.0078 - acc: 0.8964 - val_loss: 2.9709e-04 - val_mean_absolute_error: 0.0103 - val_acc: 0.7879\n",
            "\n",
            "Epoch 00033: val_loss improved from 0.00030 to 0.00030, saving model to best_weights.h5\n",
            "Epoch 34/100\n",
            "5639/5639 [==============================] - 7s 1ms/step - loss: 1.1984e-04 - mean_absolute_error: 0.0076 - acc: 0.9018 - val_loss: 3.0443e-04 - val_mean_absolute_error: 0.0105 - val_acc: 0.7638\n",
            "\n",
            "Epoch 00034: val_loss did not improve from 0.00030\n",
            "Epoch 35/100\n",
            "5639/5639 [==============================] - 7s 1ms/step - loss: 1.2100e-04 - mean_absolute_error: 0.0076 - acc: 0.9034 - val_loss: 3.2909e-04 - val_mean_absolute_error: 0.0109 - val_acc: 0.7830\n",
            "\n",
            "Epoch 00035: val_loss did not improve from 0.00030\n",
            "Epoch 36/100\n",
            "5639/5639 [==============================] - 7s 1ms/step - loss: 1.1337e-04 - mean_absolute_error: 0.0074 - acc: 0.9048 - val_loss: 3.1587e-04 - val_mean_absolute_error: 0.0104 - val_acc: 0.7745\n",
            "\n",
            "Epoch 00036: val_loss did not improve from 0.00030\n",
            "Epoch 37/100\n",
            "5639/5639 [==============================] - 7s 1ms/step - loss: 1.0775e-04 - mean_absolute_error: 0.0073 - acc: 0.9035 - val_loss: 3.0646e-04 - val_mean_absolute_error: 0.0102 - val_acc: 0.7716\n",
            "\n",
            "Epoch 00037: val_loss did not improve from 0.00030\n",
            "Epoch 38/100\n",
            "5639/5639 [==============================] - 7s 1ms/step - loss: 1.0682e-04 - mean_absolute_error: 0.0073 - acc: 0.9058 - val_loss: 2.9389e-04 - val_mean_absolute_error: 0.0103 - val_acc: 0.7830\n",
            "\n",
            "Epoch 00038: val_loss improved from 0.00030 to 0.00029, saving model to best_weights.h5\n",
            "Epoch 39/100\n",
            "5639/5639 [==============================] - 7s 1ms/step - loss: 1.0922e-04 - mean_absolute_error: 0.0073 - acc: 0.9065 - val_loss: 3.4629e-04 - val_mean_absolute_error: 0.0113 - val_acc: 0.7830\n",
            "\n",
            "Epoch 00039: val_loss did not improve from 0.00029\n",
            "Epoch 40/100\n",
            "5639/5639 [==============================] - 7s 1ms/step - loss: 1.0705e-04 - mean_absolute_error: 0.0072 - acc: 0.9064 - val_loss: 3.0026e-04 - val_mean_absolute_error: 0.0100 - val_acc: 0.7844\n",
            "\n",
            "Epoch 00040: val_loss did not improve from 0.00029\n",
            "Epoch 41/100\n",
            "5639/5639 [==============================] - 7s 1ms/step - loss: 1.0301e-04 - mean_absolute_error: 0.0071 - acc: 0.9099 - val_loss: 3.0216e-04 - val_mean_absolute_error: 0.0103 - val_acc: 0.7837\n",
            "\n",
            "Epoch 00041: val_loss did not improve from 0.00029\n",
            "Epoch 42/100\n",
            "5639/5639 [==============================] - 7s 1ms/step - loss: 1.0349e-04 - mean_absolute_error: 0.0071 - acc: 0.9090 - val_loss: 3.0987e-04 - val_mean_absolute_error: 0.0103 - val_acc: 0.7858\n",
            "\n",
            "Epoch 00042: val_loss did not improve from 0.00029\n",
            "Epoch 43/100\n",
            "5639/5639 [==============================] - 7s 1ms/step - loss: 1.0414e-04 - mean_absolute_error: 0.0070 - acc: 0.9120 - val_loss: 3.1753e-04 - val_mean_absolute_error: 0.0106 - val_acc: 0.7965\n",
            "\n",
            "Epoch 00043: val_loss did not improve from 0.00029\n",
            "Epoch 44/100\n",
            "5639/5639 [==============================] - 7s 1ms/step - loss: 9.8633e-05 - mean_absolute_error: 0.0068 - acc: 0.9179 - val_loss: 2.8914e-04 - val_mean_absolute_error: 0.0098 - val_acc: 0.7922\n",
            "\n",
            "Epoch 00044: val_loss improved from 0.00029 to 0.00029, saving model to best_weights.h5\n",
            "Epoch 45/100\n",
            "5639/5639 [==============================] - 7s 1ms/step - loss: 9.8192e-05 - mean_absolute_error: 0.0068 - acc: 0.9142 - val_loss: 3.1329e-04 - val_mean_absolute_error: 0.0104 - val_acc: 0.8007\n",
            "\n",
            "Epoch 00045: val_loss did not improve from 0.00029\n",
            "Epoch 46/100\n",
            "5639/5639 [==============================] - 7s 1ms/step - loss: 1.0222e-04 - mean_absolute_error: 0.0070 - acc: 0.9090 - val_loss: 2.9841e-04 - val_mean_absolute_error: 0.0100 - val_acc: 0.7801\n",
            "\n",
            "Epoch 00046: val_loss did not improve from 0.00029\n",
            "Epoch 47/100\n",
            "5639/5639 [==============================] - 7s 1ms/step - loss: 9.7176e-05 - mean_absolute_error: 0.0067 - acc: 0.9131 - val_loss: 2.9823e-04 - val_mean_absolute_error: 0.0100 - val_acc: 0.7965\n",
            "\n",
            "Epoch 00047: val_loss did not improve from 0.00029\n",
            "Epoch 48/100\n",
            "5639/5639 [==============================] - 7s 1ms/step - loss: 9.5417e-05 - mean_absolute_error: 0.0067 - acc: 0.9143 - val_loss: 3.0314e-04 - val_mean_absolute_error: 0.0101 - val_acc: 0.7894\n",
            "\n",
            "Epoch 00048: val_loss did not improve from 0.00029\n",
            "Epoch 49/100\n",
            "5639/5639 [==============================] - 7s 1ms/step - loss: 9.1772e-05 - mean_absolute_error: 0.0066 - acc: 0.9170 - val_loss: 2.7750e-04 - val_mean_absolute_error: 0.0096 - val_acc: 0.7957\n",
            "\n",
            "Epoch 00049: val_loss improved from 0.00029 to 0.00028, saving model to best_weights.h5\n",
            "Epoch 50/100\n",
            "5639/5639 [==============================] - 7s 1ms/step - loss: 8.7510e-05 - mean_absolute_error: 0.0064 - acc: 0.9190 - val_loss: 3.2280e-04 - val_mean_absolute_error: 0.0106 - val_acc: 0.7858\n",
            "\n",
            "Epoch 00050: val_loss did not improve from 0.00028\n",
            "Epoch 51/100\n",
            "5639/5639 [==============================] - 7s 1ms/step - loss: 8.2477e-05 - mean_absolute_error: 0.0062 - acc: 0.9179 - val_loss: 3.3250e-04 - val_mean_absolute_error: 0.0107 - val_acc: 0.7766\n",
            "\n",
            "Epoch 00051: val_loss did not improve from 0.00028\n",
            "Epoch 52/100\n",
            "5639/5639 [==============================] - 7s 1ms/step - loss: 8.9894e-05 - mean_absolute_error: 0.0066 - acc: 0.9209 - val_loss: 3.1725e-04 - val_mean_absolute_error: 0.0103 - val_acc: 0.7752\n",
            "\n",
            "Epoch 00052: val_loss did not improve from 0.00028\n",
            "Epoch 53/100\n",
            "5639/5639 [==============================] - 7s 1ms/step - loss: 8.7613e-05 - mean_absolute_error: 0.0064 - acc: 0.9181 - val_loss: 2.8469e-04 - val_mean_absolute_error: 0.0096 - val_acc: 0.7865\n",
            "\n",
            "Epoch 00053: val_loss did not improve from 0.00028\n",
            "Epoch 54/100\n",
            "5639/5639 [==============================] - 7s 1ms/step - loss: 8.4916e-05 - mean_absolute_error: 0.0063 - acc: 0.9223 - val_loss: 2.8220e-04 - val_mean_absolute_error: 0.0096 - val_acc: 0.7730\n",
            "\n",
            "Epoch 00054: val_loss did not improve from 0.00028\n",
            "Epoch 55/100\n",
            "5639/5639 [==============================] - 7s 1ms/step - loss: 8.7161e-05 - mean_absolute_error: 0.0064 - acc: 0.9214 - val_loss: 2.9018e-04 - val_mean_absolute_error: 0.0097 - val_acc: 0.7809\n",
            "\n",
            "Epoch 00055: val_loss did not improve from 0.00028\n",
            "Epoch 56/100\n",
            "5639/5639 [==============================] - 7s 1ms/step - loss: 8.0372e-05 - mean_absolute_error: 0.0061 - acc: 0.9234 - val_loss: 2.6696e-04 - val_mean_absolute_error: 0.0091 - val_acc: 0.7908\n",
            "\n",
            "Epoch 00056: val_loss improved from 0.00028 to 0.00027, saving model to best_weights.h5\n",
            "Epoch 57/100\n",
            "5639/5639 [==============================] - 7s 1ms/step - loss: 8.1361e-05 - mean_absolute_error: 0.0060 - acc: 0.9181 - val_loss: 3.1491e-04 - val_mean_absolute_error: 0.0103 - val_acc: 0.7709\n",
            "\n",
            "Epoch 00057: val_loss did not improve from 0.00027\n",
            "Epoch 58/100\n",
            "5639/5639 [==============================] - 7s 1ms/step - loss: 8.9613e-05 - mean_absolute_error: 0.0064 - acc: 0.9170 - val_loss: 2.9658e-04 - val_mean_absolute_error: 0.0098 - val_acc: 0.7837\n",
            "\n",
            "Epoch 00058: val_loss did not improve from 0.00027\n",
            "Epoch 59/100\n",
            "5639/5639 [==============================] - 7s 1ms/step - loss: 7.9526e-05 - mean_absolute_error: 0.0061 - acc: 0.9186 - val_loss: 2.7784e-04 - val_mean_absolute_error: 0.0095 - val_acc: 0.7851\n",
            "\n",
            "Epoch 00059: val_loss did not improve from 0.00027\n",
            "Epoch 60/100\n",
            "5639/5639 [==============================] - 7s 1ms/step - loss: 7.5856e-05 - mean_absolute_error: 0.0059 - acc: 0.9298 - val_loss: 3.1405e-04 - val_mean_absolute_error: 0.0105 - val_acc: 0.7936\n",
            "\n",
            "Epoch 00060: val_loss did not improve from 0.00027\n",
            "Epoch 61/100\n",
            "5639/5639 [==============================] - 7s 1ms/step - loss: 7.9949e-05 - mean_absolute_error: 0.0061 - acc: 0.9255 - val_loss: 2.9829e-04 - val_mean_absolute_error: 0.0097 - val_acc: 0.7773\n",
            "\n",
            "Epoch 00061: val_loss did not improve from 0.00027\n",
            "Epoch 62/100\n",
            "5639/5639 [==============================] - 7s 1ms/step - loss: 7.6145e-05 - mean_absolute_error: 0.0059 - acc: 0.9227 - val_loss: 2.8793e-04 - val_mean_absolute_error: 0.0094 - val_acc: 0.7645\n",
            "\n",
            "Epoch 00062: val_loss did not improve from 0.00027\n",
            "Epoch 63/100\n",
            "5639/5639 [==============================] - 7s 1ms/step - loss: 8.4706e-05 - mean_absolute_error: 0.0062 - acc: 0.9227 - val_loss: 2.8735e-04 - val_mean_absolute_error: 0.0097 - val_acc: 0.8071\n",
            "\n",
            "Epoch 00063: val_loss did not improve from 0.00027\n",
            "Epoch 64/100\n",
            "5639/5639 [==============================] - 7s 1ms/step - loss: 7.9752e-05 - mean_absolute_error: 0.0060 - acc: 0.9259 - val_loss: 2.7093e-04 - val_mean_absolute_error: 0.0092 - val_acc: 0.7830\n",
            "\n",
            "Epoch 00064: val_loss did not improve from 0.00027\n",
            "Epoch 65/100\n",
            "5639/5639 [==============================] - 7s 1ms/step - loss: 7.2163e-05 - mean_absolute_error: 0.0057 - acc: 0.9264 - val_loss: 2.7911e-04 - val_mean_absolute_error: 0.0094 - val_acc: 0.7837\n",
            "\n",
            "Epoch 00065: val_loss did not improve from 0.00027\n",
            "Epoch 66/100\n",
            "5639/5639 [==============================] - 7s 1ms/step - loss: 7.3646e-05 - mean_absolute_error: 0.0057 - acc: 0.9248 - val_loss: 2.8408e-04 - val_mean_absolute_error: 0.0093 - val_acc: 0.7759\n",
            "\n",
            "Epoch 00066: val_loss did not improve from 0.00027\n",
            "Epoch 67/100\n",
            "5639/5639 [==============================] - 7s 1ms/step - loss: 7.3369e-05 - mean_absolute_error: 0.0057 - acc: 0.9324 - val_loss: 2.9111e-04 - val_mean_absolute_error: 0.0100 - val_acc: 0.7936\n",
            "\n",
            "Epoch 00067: val_loss did not improve from 0.00027\n",
            "Epoch 68/100\n",
            "5639/5639 [==============================] - 7s 1ms/step - loss: 7.3824e-05 - mean_absolute_error: 0.0058 - acc: 0.9239 - val_loss: 2.8236e-04 - val_mean_absolute_error: 0.0093 - val_acc: 0.7809\n",
            "\n",
            "Epoch 00068: val_loss did not improve from 0.00027\n",
            "Epoch 69/100\n",
            "5639/5639 [==============================] - 7s 1ms/step - loss: 6.6776e-05 - mean_absolute_error: 0.0055 - acc: 0.9310 - val_loss: 2.8385e-04 - val_mean_absolute_error: 0.0093 - val_acc: 0.7752\n",
            "\n",
            "Epoch 00069: val_loss did not improve from 0.00027\n",
            "Epoch 70/100\n",
            "5639/5639 [==============================] - 7s 1ms/step - loss: 7.4348e-05 - mean_absolute_error: 0.0056 - acc: 0.9310 - val_loss: 2.7892e-04 - val_mean_absolute_error: 0.0094 - val_acc: 0.7738\n",
            "\n",
            "Epoch 00070: val_loss did not improve from 0.00027\n",
            "Epoch 71/100\n",
            "5639/5639 [==============================] - 7s 1ms/step - loss: 6.7224e-05 - mean_absolute_error: 0.0055 - acc: 0.9310 - val_loss: 2.8310e-04 - val_mean_absolute_error: 0.0096 - val_acc: 0.7936\n",
            "\n",
            "Epoch 00071: val_loss did not improve from 0.00027\n",
            "Epoch 72/100\n",
            "5639/5639 [==============================] - 7s 1ms/step - loss: 7.1776e-05 - mean_absolute_error: 0.0056 - acc: 0.9292 - val_loss: 2.7872e-04 - val_mean_absolute_error: 0.0094 - val_acc: 0.7879\n",
            "\n",
            "Epoch 00072: val_loss did not improve from 0.00027\n",
            "Epoch 73/100\n",
            "5639/5639 [==============================] - 7s 1ms/step - loss: 6.5768e-05 - mean_absolute_error: 0.0054 - acc: 0.9291 - val_loss: 2.8149e-04 - val_mean_absolute_error: 0.0095 - val_acc: 0.7844\n",
            "\n",
            "Epoch 00073: val_loss did not improve from 0.00027\n",
            "Epoch 74/100\n",
            "5639/5639 [==============================] - 7s 1ms/step - loss: 6.9346e-05 - mean_absolute_error: 0.0056 - acc: 0.9271 - val_loss: 2.6475e-04 - val_mean_absolute_error: 0.0089 - val_acc: 0.7887\n",
            "\n",
            "Epoch 00074: val_loss improved from 0.00027 to 0.00026, saving model to best_weights.h5\n",
            "Epoch 75/100\n",
            "5639/5639 [==============================] - 7s 1ms/step - loss: 6.5929e-05 - mean_absolute_error: 0.0054 - acc: 0.9269 - val_loss: 2.7233e-04 - val_mean_absolute_error: 0.0091 - val_acc: 0.7915\n",
            "\n",
            "Epoch 00075: val_loss did not improve from 0.00026\n",
            "Epoch 76/100\n",
            "5639/5639 [==============================] - 7s 1ms/step - loss: 6.4900e-05 - mean_absolute_error: 0.0054 - acc: 0.9285 - val_loss: 2.8130e-04 - val_mean_absolute_error: 0.0093 - val_acc: 0.7957\n",
            "\n",
            "Epoch 00076: val_loss did not improve from 0.00026\n",
            "Epoch 77/100\n",
            "5639/5639 [==============================] - 7s 1ms/step - loss: 6.3470e-05 - mean_absolute_error: 0.0053 - acc: 0.9292 - val_loss: 2.7064e-04 - val_mean_absolute_error: 0.0090 - val_acc: 0.7844\n",
            "\n",
            "Epoch 00077: val_loss did not improve from 0.00026\n",
            "Epoch 78/100\n",
            "5639/5639 [==============================] - 7s 1ms/step - loss: 6.2208e-05 - mean_absolute_error: 0.0052 - acc: 0.9347 - val_loss: 2.7365e-04 - val_mean_absolute_error: 0.0092 - val_acc: 0.7908\n",
            "\n",
            "Epoch 00078: val_loss did not improve from 0.00026\n",
            "Epoch 79/100\n",
            "5639/5639 [==============================] - 7s 1ms/step - loss: 6.4351e-05 - mean_absolute_error: 0.0054 - acc: 0.9335 - val_loss: 2.9211e-04 - val_mean_absolute_error: 0.0096 - val_acc: 0.7851\n",
            "\n",
            "Epoch 00079: val_loss did not improve from 0.00026\n",
            "Epoch 80/100\n",
            "5639/5639 [==============================] - 7s 1ms/step - loss: 6.7621e-05 - mean_absolute_error: 0.0055 - acc: 0.9266 - val_loss: 2.7273e-04 - val_mean_absolute_error: 0.0089 - val_acc: 0.7858\n",
            "\n",
            "Epoch 00080: val_loss did not improve from 0.00026\n",
            "Epoch 81/100\n",
            "5639/5639 [==============================] - 7s 1ms/step - loss: 6.2868e-05 - mean_absolute_error: 0.0052 - acc: 0.9253 - val_loss: 2.8271e-04 - val_mean_absolute_error: 0.0094 - val_acc: 0.7936\n",
            "\n",
            "Epoch 00081: val_loss did not improve from 0.00026\n",
            "Epoch 82/100\n",
            "5639/5639 [==============================] - 7s 1ms/step - loss: 6.9451e-05 - mean_absolute_error: 0.0054 - acc: 0.9300 - val_loss: 2.9452e-04 - val_mean_absolute_error: 0.0097 - val_acc: 0.7908\n",
            "\n",
            "Epoch 00082: val_loss did not improve from 0.00026\n",
            "Epoch 83/100\n",
            "5639/5639 [==============================] - 7s 1ms/step - loss: 6.9181e-05 - mean_absolute_error: 0.0055 - acc: 0.9317 - val_loss: 2.8294e-04 - val_mean_absolute_error: 0.0093 - val_acc: 0.7844\n",
            "\n",
            "Epoch 00083: val_loss did not improve from 0.00026\n",
            "Epoch 84/100\n",
            "5639/5639 [==============================] - 7s 1ms/step - loss: 6.1858e-05 - mean_absolute_error: 0.0052 - acc: 0.9340 - val_loss: 2.6113e-04 - val_mean_absolute_error: 0.0088 - val_acc: 0.7901\n",
            "\n",
            "Epoch 00084: val_loss improved from 0.00026 to 0.00026, saving model to best_weights.h5\n",
            "Epoch 85/100\n",
            "5639/5639 [==============================] - 7s 1ms/step - loss: 5.9656e-05 - mean_absolute_error: 0.0051 - acc: 0.9349 - val_loss: 2.8125e-04 - val_mean_absolute_error: 0.0092 - val_acc: 0.7759\n",
            "\n",
            "Epoch 00085: val_loss did not improve from 0.00026\n",
            "Epoch 86/100\n",
            "5639/5639 [==============================] - 7s 1ms/step - loss: 5.9950e-05 - mean_absolute_error: 0.0050 - acc: 0.9331 - val_loss: 2.6954e-04 - val_mean_absolute_error: 0.0090 - val_acc: 0.7943\n",
            "\n",
            "Epoch 00086: val_loss did not improve from 0.00026\n",
            "Epoch 87/100\n",
            "5639/5639 [==============================] - 7s 1ms/step - loss: 5.7029e-05 - mean_absolute_error: 0.0050 - acc: 0.9257 - val_loss: 2.8765e-04 - val_mean_absolute_error: 0.0093 - val_acc: 0.7957\n",
            "\n",
            "Epoch 00087: val_loss did not improve from 0.00026\n",
            "Epoch 88/100\n",
            "5639/5639 [==============================] - 7s 1ms/step - loss: 5.6549e-05 - mean_absolute_error: 0.0049 - acc: 0.9358 - val_loss: 2.7161e-04 - val_mean_absolute_error: 0.0090 - val_acc: 0.7950\n",
            "\n",
            "Epoch 00088: val_loss did not improve from 0.00026\n",
            "Epoch 89/100\n",
            "5639/5639 [==============================] - 7s 1ms/step - loss: 5.7933e-05 - mean_absolute_error: 0.0049 - acc: 0.9344 - val_loss: 2.8025e-04 - val_mean_absolute_error: 0.0091 - val_acc: 0.7936\n",
            "\n",
            "Epoch 00089: val_loss did not improve from 0.00026\n",
            "Epoch 90/100\n",
            "5639/5639 [==============================] - 7s 1ms/step - loss: 6.3727e-05 - mean_absolute_error: 0.0051 - acc: 0.9284 - val_loss: 2.7680e-04 - val_mean_absolute_error: 0.0091 - val_acc: 0.7780\n",
            "\n",
            "Epoch 00090: val_loss did not improve from 0.00026\n",
            "Epoch 91/100\n",
            "5639/5639 [==============================] - 7s 1ms/step - loss: 6.1440e-05 - mean_absolute_error: 0.0051 - acc: 0.9307 - val_loss: 2.7370e-04 - val_mean_absolute_error: 0.0090 - val_acc: 0.7730\n",
            "\n",
            "Epoch 00091: val_loss did not improve from 0.00026\n",
            "Epoch 92/100\n",
            "5639/5639 [==============================] - 7s 1ms/step - loss: 5.5835e-05 - mean_absolute_error: 0.0048 - acc: 0.9324 - val_loss: 2.8732e-04 - val_mean_absolute_error: 0.0092 - val_acc: 0.7716\n",
            "\n",
            "Epoch 00092: val_loss did not improve from 0.00026\n",
            "Epoch 93/100\n",
            "5639/5639 [==============================] - 7s 1ms/step - loss: 6.1090e-05 - mean_absolute_error: 0.0052 - acc: 0.9308 - val_loss: 2.9307e-04 - val_mean_absolute_error: 0.0095 - val_acc: 0.7901\n",
            "\n",
            "Epoch 00093: val_loss did not improve from 0.00026\n",
            "Epoch 94/100\n",
            "5639/5639 [==============================] - 7s 1ms/step - loss: 6.2871e-05 - mean_absolute_error: 0.0051 - acc: 0.9308 - val_loss: 2.7660e-04 - val_mean_absolute_error: 0.0090 - val_acc: 0.7887\n",
            "\n",
            "Epoch 00094: val_loss did not improve from 0.00026\n",
            "Epoch 95/100\n",
            "5639/5639 [==============================] - 7s 1ms/step - loss: 5.4151e-05 - mean_absolute_error: 0.0047 - acc: 0.9378 - val_loss: 3.0783e-04 - val_mean_absolute_error: 0.0099 - val_acc: 0.7766\n",
            "\n",
            "Epoch 00095: val_loss did not improve from 0.00026\n",
            "Epoch 96/100\n",
            "5639/5639 [==============================] - 7s 1ms/step - loss: 9.2250e-05 - mean_absolute_error: 0.0065 - acc: 0.9113 - val_loss: 2.8037e-04 - val_mean_absolute_error: 0.0090 - val_acc: 0.7794\n",
            "\n",
            "Epoch 00096: val_loss did not improve from 0.00026\n",
            "Epoch 97/100\n",
            "5639/5639 [==============================] - 7s 1ms/step - loss: 7.2180e-05 - mean_absolute_error: 0.0054 - acc: 0.9232 - val_loss: 2.8151e-04 - val_mean_absolute_error: 0.0091 - val_acc: 0.7837\n",
            "\n",
            "Epoch 00097: val_loss did not improve from 0.00026\n",
            "Epoch 98/100\n",
            "5639/5639 [==============================] - 7s 1ms/step - loss: 5.6607e-05 - mean_absolute_error: 0.0049 - acc: 0.9362 - val_loss: 2.9573e-04 - val_mean_absolute_error: 0.0095 - val_acc: 0.7901\n",
            "\n",
            "Epoch 00098: val_loss did not improve from 0.00026\n",
            "Epoch 99/100\n",
            "5639/5639 [==============================] - 7s 1ms/step - loss: 5.9467e-05 - mean_absolute_error: 0.0049 - acc: 0.9390 - val_loss: 2.7057e-04 - val_mean_absolute_error: 0.0089 - val_acc: 0.7922\n",
            "\n",
            "Epoch 00099: val_loss did not improve from 0.00026\n",
            "Epoch 100/100\n",
            "5639/5639 [==============================] - 7s 1ms/step - loss: 5.5829e-05 - mean_absolute_error: 0.0047 - acc: 0.9333 - val_loss: 2.7014e-04 - val_mean_absolute_error: 0.0088 - val_acc: 0.7879\n",
            "\n",
            "Epoch 00100: val_loss did not improve from 0.00026\n"
          ],
          "name": "stdout"
        },
        {
          "output_type": "execute_result",
          "data": {
            "text/plain": [
              "<keras.callbacks.History at 0x7f0846fc8198>"
            ]
          },
          "metadata": {
            "tags": []
          },
          "execution_count": 28
        }
      ]
    },
    {
      "cell_type": "code",
      "metadata": {
        "id": "B4LeoITr32bH",
        "colab_type": "code",
        "colab": {}
      },
      "source": [
        "ans = model.predict(np.expand_dims(x_train[0],axis=0))"
      ],
      "execution_count": 0,
      "outputs": []
    },
    {
      "cell_type": "code",
      "metadata": {
        "id": "CQaEkg03fX-X",
        "colab_type": "code",
        "colab": {}
      },
      "source": [
        "new_imag = []\n",
        "for i in range(0,test_data.shape[0]):\n",
        "    img = test_data['Image'][i].split(' ')\n",
        "    img = ['0' if x == '' else x for x in img]\n",
        "    new_imag.append(img)"
      ],
      "execution_count": 0,
      "outputs": []
    },
    {
      "cell_type": "markdown",
      "metadata": {
        "id": "uC90LAnNLvhL",
        "colab_type": "text"
      },
      "source": [
        "trying on new test dataset to see performance of our model"
      ]
    },
    {
      "cell_type": "code",
      "metadata": {
        "id": "hy-_0C0Jfrlw",
        "colab_type": "code",
        "colab": {}
      },
      "source": [
        "image_list = np.array(new_imag,dtype = 'float')\n",
        "X_test = image_list.reshape(-1,96,96)"
      ],
      "execution_count": 0,
      "outputs": []
    },
    {
      "cell_type": "code",
      "metadata": {
        "id": "_JmPLvmBg8af",
        "colab_type": "code",
        "outputId": "f07b46e8-d5f1-4017-a7fd-1083b47e5fea",
        "colab": {
          "base_uri": "https://localhost:8080/",
          "height": 34
        }
      },
      "source": [
        "X_test.shape"
      ],
      "execution_count": 0,
      "outputs": [
        {
          "output_type": "execute_result",
          "data": {
            "text/plain": [
              "(1783, 96, 96)"
            ]
          },
          "metadata": {
            "tags": []
          },
          "execution_count": 51
        }
      ]
    },
    {
      "cell_type": "code",
      "metadata": {
        "id": "Um_JdWjNg-Jt",
        "colab_type": "code",
        "colab": {}
      },
      "source": [
        "x_test = X_test.reshape(-1,96,96,1)\n",
        "x_test = x_test/255"
      ],
      "execution_count": 0,
      "outputs": []
    },
    {
      "cell_type": "code",
      "metadata": {
        "id": "i1D5u9vkhJaJ",
        "colab_type": "code",
        "colab": {}
      },
      "source": [
        "ans = model.predict(np.expand_dims(x_test[220],axis=0))"
      ],
      "execution_count": 0,
      "outputs": []
    },
    {
      "cell_type": "code",
      "metadata": {
        "id": "nIE_gx_5hK5B",
        "colab_type": "code",
        "outputId": "f33f7b3d-7de2-4a37-ab5d-dcc5d6825f30",
        "colab": {
          "base_uri": "https://localhost:8080/",
          "height": 269
        }
      },
      "source": [
        "visualize(X_test[220],ans[0]*96)"
      ],
      "execution_count": 0,
      "outputs": [
        {
          "output_type": "display_data",
          "data": {
            "image/png": "[encoded data removed]",
            "text/plain": [
              "<Figure size 432x288 with 1 Axes>"
            ]
          },
          "metadata": {
            "tags": []
          }
        }
      ]
    },
    {
      "cell_type": "code",
      "metadata": {
        "id": "SpuD6KJ7hXdk",
        "colab_type": "code",
        "colab": {}
      },
      "source": [
        "ans = model.predict(np.expand_dims(x_test[660],axis=0))"
      ],
      "execution_count": 0,
      "outputs": []
    },
    {
      "cell_type": "code",
      "metadata": {
        "id": "FOyzm47zDJrG",
        "colab_type": "code",
        "outputId": "aa58354b-e15d-4fd4-edfe-f915d9f334bc",
        "colab": {
          "base_uri": "https://localhost:8080/",
          "height": 269
        }
      },
      "source": [
        "visualize(X_test[660],ans[0]*96)"
      ],
      "execution_count": 0,
      "outputs": [
        {
          "output_type": "display_data",
          "data": {
            "image/png": "[encoded data removed]",
            "text/plain": [
              "<Figure size 432x288 with 1 Axes>"
            ]
          },
          "metadata": {
            "tags": []
          }
        }
      ]
    },
    {
      "cell_type": "code",
      "metadata": {
        "id": "12h7eXGgDMgF",
        "colab_type": "code",
        "outputId": "2e367c3b-9cf2-4698-eccb-1d10a7b862b1",
        "colab": {
          "base_uri": "https://localhost:8080/",
          "height": 269
        }
      },
      "source": [
        "ans = model.predict(np.expand_dims(x_test[900],axis=0))\n",
        "visualize(X_test[900],ans[0]*96)"
      ],
      "execution_count": 0,
      "outputs": [
        {
          "output_type": "display_data",
          "data": {
            "image/png": "[encoded data removed]",
            "text/plain": [
              "<Figure size 432x288 with 1 Axes>"
            ]
          },
          "metadata": {
            "tags": []
          }
        }
      ]
    },
    {
      "cell_type": "markdown",
      "metadata": {
        "id": "jU-hrByvL6e9",
        "colab_type": "text"
      },
      "source": [
        "RESULT : As you can see the model performs great on new data also."
      ]
    },
    {
      "cell_type": "code",
      "metadata": {
        "id": "cO-HawctMFWk",
        "colab_type": "code",
        "colab": {}
      },
      "source": [
        ""
      ],
      "execution_count": 0,
      "outputs": []
    }
  ]
}